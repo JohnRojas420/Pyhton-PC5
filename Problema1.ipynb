{
 "cells": [
  {
   "cell_type": "code",
   "execution_count": null,
   "metadata": {},
   "outputs": [],
   "source": [
    "#Ejercicio1 - Búsqueda de Alojamiento en Airbnb (Jupyter).\n",
    "\n",
    "# Supongamos que somos un agente de Airbnb localizado en Lisboa, y tenemos que atender peticiones de varios clientes. \n",
    "# Tenemos un archivo llamado airbnb.csv (en la carpeta data) donde tenemos información de todos los alojamientos de Airbnb en \n",
    "# Lisboa."
   ]
  },
  {
   "cell_type": "code",
   "execution_count": 1,
   "metadata": {},
   "outputs": [],
   "source": [
    "import pandas as pd"
   ]
  },
  {
   "cell_type": "code",
   "execution_count": 5,
   "metadata": {},
   "outputs": [],
   "source": [
    "import matplotlib.pyplot as plt"
   ]
  },
  {
   "cell_type": "code",
   "execution_count": 6,
   "metadata": {},
   "outputs": [],
   "source": [
    "import seaborn as sns"
   ]
  },
  {
   "cell_type": "code",
   "execution_count": null,
   "metadata": {},
   "outputs": [],
   "source": [
    "#Definiendo Distribución del tipo de propiedad (room_type):\n",
    "sns.countplot(x='room_type', data=df)\n",
    "plt.title('Distribución del tipo de propiedad')\n",
    "plt.show()\n",
    "\n",
    "#Definiendo Distribución de precios (price):\n",
    "sns.histplot(df['price'], bins=50)\n",
    "plt.title('Distribución de los precios')\n",
    "plt.xlabel('Precio (euros)')\n",
    "plt.ylabel('Frecuencia')\n",
    "plt.show()\n",
    "\n",
    "#Definiendo la Relación entre el precio y el número de personas que se pueden alojar (accommodates):\n",
    "sns.scatterplot(x='accommodates', y='price', data=df)\n",
    "plt.title('Relación entre el precio y el número de personas que se pueden alojar')\n",
    "plt.xlabel('Número de personas')\n",
    "plt.ylabel('Precio (euros)')\n",
    "plt.show()\n",
    "\n",
    "#Relación entre la puntuación media (overall_satisfaction) y el precio (price):\n",
    "\n",
    "sns.boxplot(x='overall_satisfaction', y='price', data=df)\n",
    "plt.title('Relación entre la puntuación media y el precio')\n",
    "plt.xlabel('Puntuación media')\n",
    "plt.ylabel('Precio (euros)')\n",
    "plt.show()"
   ]
  },
  {
   "cell_type": "code",
   "execution_count": null,
   "metadata": {},
   "outputs": [],
   "source": [
    "#"
   ]
  }
 ],
 "metadata": {
  "kernelspec": {
   "display_name": "base",
   "language": "python",
   "name": "python3"
  },
  "language_info": {
   "codemirror_mode": {
    "name": "ipython",
    "version": 3
   },
   "file_extension": ".py",
   "mimetype": "text/x-python",
   "name": "python",
   "nbconvert_exporter": "python",
   "pygments_lexer": "ipython3",
   "version": "3.12.1"
  }
 },
 "nbformat": 4,
 "nbformat_minor": 2
}
